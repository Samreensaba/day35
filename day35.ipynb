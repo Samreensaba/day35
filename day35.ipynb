{
 "cells": [
  {
   "cell_type": "code",
   "execution_count": null,
   "id": "32976b90-bd1f-430f-8c90-45453fb3c741",
   "metadata": {},
   "outputs": [],
   "source": [
    "import os, time\n",
    "\n",
    "title = \"\\033[34m To Do List Manager \\033[0m\"\n",
    "print(f\"{title: ^60}\")\n",
    "print()\n",
    "toDoList = []\n",
    "\n",
    "\n",
    "def printList():\n",
    "  print()\n",
    "  for item in toDoList:\n",
    "    print(f\"\\033[31m{item: ^10}\\033[0m\")\n",
    "  print()\n",
    "\n",
    "\n",
    "while True:\n",
    "  menu = input(\"Do you want view, add, edit or remove the list? \")\n",
    "  if menu == \"add\":\n",
    "    item = input(\"Who should I add to the to do list?: \")\n",
    "    if item in toDoList:\n",
    "      print(\"This item is already in the list.\")\n",
    "    else:\n",
    "      toDoList.append(item)\n",
    "  elif menu == \"remove\":\n",
    "    item = input(\"Who should I remove from the to do list?: \")\n",
    "    if item in toDoList:\n",
    "      confirm = input(f\"Are you sure you want to remove {item} from the list?y/n: \")\n",
    "      if confirm == \"y\":\n",
    "       toDoList.remove(item)\n",
    "       print(f\"{item} removed from the list.\")\n",
    "      else:\n",
    "        print(f\"{item} not removed.\")\n",
    "    else:\n",
    "      print(f\"{item} was not in the list\")\n",
    "  elif menu == \"view\":\n",
    "    print()\n",
    "    print(\"Here is you To Do List: \")\n",
    "    printList()\n",
    "  elif menu == \"edit\":\n",
    "    editItem = input(\"Which item do you want to edit? \")\n",
    "    if editItem in toDoList:\n",
    "      newItem = input(\"What do you want to change it to?\")\n",
    "      toDoList.remove(editItem)\n",
    "      toDoList.append(newItem)\n",
    "    else:\n",
    "      print(f\"{editItem} was not in the list\")\n",
    "  else:\n",
    "    print(\"Invalid input, try again.\")\n",
    "\n",
    "  time.sleep(2)\n",
    "  os.system(\"clear\")\n",
    "  print(f\"{title: ^60}\")\n"
   ]
  }
 ],
 "metadata": {
  "kernelspec": {
   "display_name": "Python 3 (ipykernel)",
   "language": "python",
   "name": "python3"
  },
  "language_info": {
   "codemirror_mode": {
    "name": "ipython",
    "version": 3
   },
   "file_extension": ".py",
   "mimetype": "text/x-python",
   "name": "python",
   "nbconvert_exporter": "python",
   "pygments_lexer": "ipython3",
   "version": "3.12.4"
  }
 },
 "nbformat": 4,
 "nbformat_minor": 5
}
